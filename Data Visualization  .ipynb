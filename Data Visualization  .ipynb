{
 "cells": [
  {
   "cell_type": "markdown",
   "id": "d4cb6d91",
   "metadata": {},
   "source": [
    "# Data Visualization "
   ]
  },
  {
   "cell_type": "code",
   "execution_count": 1,
   "id": "d6b4291e",
   "metadata": {},
   "outputs": [
    {
     "data": {
      "text/plain": [
       "'Data Visualization is the presentataion of data in a pictorial or graphical formate \\n'"
      ]
     },
     "execution_count": 1,
     "metadata": {},
     "output_type": "execute_result"
    }
   ],
   "source": [
    "\"\"\"Data Visualization is the presentataion of data in a pictorial or graphical formate \n",
    "\"\"\""
   ]
  },
  {
   "cell_type": "code",
   "execution_count": 2,
   "id": "f3176f3a",
   "metadata": {},
   "outputs": [
    {
     "data": {
      "text/plain": [
       "'\\n1-Visualize\\n2-Analyse\\n3-Document Insight\\n4-Transform Data Set\\n\\n\\n'"
      ]
     },
     "execution_count": 2,
     "metadata": {},
     "output_type": "execute_result"
    }
   ],
   "source": [
    "# Process \n",
    "\"\"\"\n",
    "1-Visualize\n",
    "2-Analyse\n",
    "3-Document Insight\n",
    "4-Transform Data Set\n",
    "\n",
    "\n",
    "\"\"\"\n"
   ]
  },
  {
   "cell_type": "code",
   "execution_count": 3,
   "id": "17e5292f",
   "metadata": {},
   "outputs": [
    {
     "data": {
      "text/plain": [
       "'\\n1-Bar Graph- \\n2-Histograms\\n3-Scatter Plot \\n4-Pie Plot \\n5-Hexagonal Bin Plot \\n6-Area Plot\\n'"
      ]
     },
     "execution_count": 3,
     "metadata": {},
     "output_type": "execute_result"
    }
   ],
   "source": [
    "# Matplolib\n",
    "\n",
    "\"\"\"Matplotlib is a python package used for 2D graphic \"\"\"\n",
    "\n",
    "#types of Plots \n",
    "\"\"\"\n",
    "1-Bar Graph- \n",
    "2-Histograms\n",
    "3-Scatter Plot \n",
    "4-Pie Plot \n",
    "5-Hexagonal Bin Plot \n",
    "6-Area Plot\n",
    "\"\"\"\n"
   ]
  },
  {
   "cell_type": "code",
   "execution_count": 4,
   "id": "188d2a6f",
   "metadata": {},
   "outputs": [],
   "source": [
    "import numpy"
   ]
  },
  {
   "cell_type": "code",
   "execution_count": 12,
   "id": "b365268d",
   "metadata": {},
   "outputs": [],
   "source": [
    "import matpl"
   ]
  },
  {
   "cell_type": "code",
   "execution_count": 11,
   "id": "3e0d56cd",
   "metadata": {},
   "outputs": [
    {
     "ename": "ModuleNotFoundError",
     "evalue": "No module named 'p'",
     "output_type": "error",
     "traceback": [
      "\u001b[0;31m---------------------------------------------------------------------------\u001b[0m",
      "\u001b[0;31mModuleNotFoundError\u001b[0m                       Traceback (most recent call last)",
      "\u001b[0;32m/tmp/ipykernel_13936/70974821.py\u001b[0m in \u001b[0;36m<module>\u001b[0;34m\u001b[0m\n\u001b[0;32m----> 1\u001b[0;31m \u001b[0;32mfrom\u001b[0m \u001b[0mp\u001b[0m \u001b[0;32mimport\u001b[0m \u001b[0mpyplot\u001b[0m \u001b[0;32mas\u001b[0m \u001b[0mp\u001b[0m\u001b[0;34m\u001b[0m\u001b[0;34m\u001b[0m\u001b[0m\n\u001b[0m",
      "\u001b[0;31mModuleNotFoundError\u001b[0m: No module named 'p'"
     ]
    }
   ],
   "source": [
    "from p import pyplot as p"
   ]
  },
  {
   "cell_type": "code",
   "execution_count": null,
   "id": "e52715a3",
   "metadata": {},
   "outputs": [],
   "source": []
  }
 ],
 "metadata": {
  "kernelspec": {
   "display_name": "Python 3 (ipykernel)",
   "language": "python",
   "name": "python3"
  },
  "language_info": {
   "codemirror_mode": {
    "name": "ipython",
    "version": 3
   },
   "file_extension": ".py",
   "mimetype": "text/x-python",
   "name": "python",
   "nbconvert_exporter": "python",
   "pygments_lexer": "ipython3",
   "version": "3.10.12"
  }
 },
 "nbformat": 4,
 "nbformat_minor": 5
}
